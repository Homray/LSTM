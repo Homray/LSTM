{
 "cells": [
  {
   "cell_type": "code",
   "execution_count": 69,
   "id": "8ee326b7",
   "metadata": {},
   "outputs": [],
   "source": [
    "import pandas as pd\n",
    "from sklearn.preprocessing import StandardScaler\n",
    "import numpy as np\n",
    "from tensorflow.keras.regularizers import l2\n",
    "from tensorflow.keras.models import Sequential\n",
    "from tensorflow.keras.layers import LSTM, Dense, Dropout, Input\n",
    "from tensorflow.keras.optimizers import Adam\n",
    "from tensorflow.keras.callbacks import EarlyStopping\n",
    "from tensorflow.keras.models import load_model"
   ]
  },
  {
   "cell_type": "code",
   "execution_count": 70,
   "id": "9544cc4f",
   "metadata": {},
   "outputs": [],
   "source": [
    "# Загрузка данных\n",
    "df = pd.read_csv(\"Dataset.csv\") "
   ]
  },
  {
   "cell_type": "code",
   "execution_count": 71,
   "id": "e4ab856a",
   "metadata": {},
   "outputs": [],
   "source": [
    "# Варианты выбора наборов данных\n",
    "#features = ['ONI', 'Nino3.4_SST', 'South_Sea_SST_t+3']\n",
    "features = ['ONI', 'Nino3.4_SST']\n",
    "#features = ['ONI', 'South_Sea_SST_t+3']\n",
    "#features = ['ONI']\n",
    "\n",
    "# Горизонт предсказания\n",
    "horizon = 3\n",
    "\n",
    "# Шширина окна\n",
    "W = 24\n",
    "\n",
    "# Параметры модели\n",
    "lstm_units=64 # количество нейроной в LSTM слое\n",
    "dense_units=32 # количество нейроной в обычном слое\n",
    "dropout_rate=0.2 # доля нейронов, которую модель забывает\n",
    "\n",
    "# Параметры обучения\n",
    "epochs=100 # количество эпох\n",
    "batch_size=32 # размер батча\n",
    "patience=5 # параматр EarlyStopping (сколько эпох без повышения точности ждать перед остановкой)"
   ]
  },
  {
   "cell_type": "code",
   "execution_count": 72,
   "id": "000a81c4",
   "metadata": {},
   "outputs": [],
   "source": [
    "df = df[['Date']+ features]"
   ]
  },
  {
   "cell_type": "code",
   "execution_count": 73,
   "id": "893d7e19",
   "metadata": {},
   "outputs": [],
   "source": [
    "# Разбиение на обучающий, валидационный и тестовый наборы\n",
    "train_df = df.iloc[:744]\n",
    "val_df   = df.iloc[744:828]\n",
    "test_df  = df.iloc[828:]"
   ]
  },
  {
   "cell_type": "code",
   "execution_count": 74,
   "id": "431d6de9",
   "metadata": {},
   "outputs": [],
   "source": [
    "# Инициализация стандартизатора для признаков\n",
    "scaler = StandardScaler()\n",
    "# Обучение стандаритизатора по обучающей выборке\n",
    "scaler.fit(train_df[features])\n",
    "\n",
    "# Стандартизация каждого набора\n",
    "train_values = scaler.transform(train_df[features])\n",
    "val_values   = scaler.transform(val_df[features])\n",
    "test_values  = scaler.transform(test_df[features])"
   ]
  },
  {
   "cell_type": "code",
   "execution_count": 75,
   "id": "383dc4cb",
   "metadata": {},
   "outputs": [],
   "source": [
    "# Функция для формирования выборки (обучающей / валидационной / тестовой)\n",
    "def create_sequences(data_array, window_size, horizon):\n",
    "    X_seq, y_seq = [], []\n",
    "    N = len(data_array)\n",
    "    oni_index = 0  \n",
    "    for start in range(0, N - window_size - horizon + 1):\n",
    "        end = start + window_size\n",
    "        seq_x = data_array[start : end]            \n",
    "        target_y = data_array[end + horizon - 1, oni_index]\n",
    "        X_seq.append(seq_x)\n",
    "        y_seq.append(target_y)\n",
    "    X_seq = np.array(X_seq)\n",
    "    y_seq = np.array(y_seq)\n",
    "    return X_seq, y_seq"
   ]
  },
  {
   "cell_type": "code",
   "execution_count": 76,
   "id": "00a6ebb6",
   "metadata": {},
   "outputs": [],
   "source": [
    "# Функция для инициализации модели\n",
    "def create_model(window_size, lstm_units, dense_units,  dropout_rate):\n",
    "    model = Sequential([\n",
    "        Input(shape=(window_size, len(features))),\n",
    "        LSTM(lstm_units, activation='tanh'),\n",
    "        Dropout(dropout_rate),\n",
    "        Dense(dense_units, activation='relu', kernel_regularizer=l2(0.001)),\n",
    "        Dense(1)\n",
    "    ])\n",
    "    optimizer = Adam(learning_rate=0.0005)\n",
    "    model.compile(optimizer=optimizer, loss='mse', metrics=['mae'])\n",
    "\n",
    "    return model"
   ]
  },
  {
   "cell_type": "code",
   "execution_count": 77,
   "id": "f7967944",
   "metadata": {},
   "outputs": [],
   "source": [
    "# Колбэк для ранней остановки\n",
    "es = EarlyStopping(monitor='val_loss', patience=patience, restore_best_weights=True)"
   ]
  },
  {
   "cell_type": "code",
   "execution_count": 78,
   "id": "4f1cba44",
   "metadata": {},
   "outputs": [],
   "source": [
    "num_features = len(features)\n",
    "\n",
    "# Формирование обучающей, валидационно. и тестовой выборок для заданного горизонта\n",
    "X_train, y_train = create_sequences(train_values, W, horizon)\n",
    "X_val,   y_val   = create_sequences(val_values,   W, horizon)\n",
    "X_test,  y_test  = create_sequences(test_values,  W, horizon)\n"
   ]
  },
  {
   "cell_type": "code",
   "execution_count": 79,
   "id": "9d48c790",
   "metadata": {},
   "outputs": [
    {
     "data": {
      "text/plain": [
       "<keras.src.callbacks.History at 0x243b0d95000>"
      ]
     },
     "execution_count": 79,
     "metadata": {},
     "output_type": "execute_result"
    }
   ],
   "source": [
    "# Инициализация модели\n",
    "model = create_model(window_size=W, lstm_units=lstm_units, dense_units=dense_units, dropout_rate=dropout_rate)\n",
    "\n",
    "# Обучение модели\n",
    "model.fit(X_train, y_train, epochs=epochs, batch_size=batch_size,\n",
    "                    validation_data=(X_val, y_val), \n",
    "                    callbacks=[es], verbose=0)"
   ]
  },
  {
   "cell_type": "code",
   "execution_count": 80,
   "id": "15c722c8",
   "metadata": {},
   "outputs": [
    {
     "name": "stdout",
     "output_type": "stream",
     "text": [
      "WARNING:tensorflow:5 out of the last 13 calls to <function Model.make_predict_function.<locals>.predict_function at 0x00000243ABFC2F80> triggered tf.function retracing. Tracing is expensive and the excessive number of tracings could be due to (1) creating @tf.function repeatedly in a loop, (2) passing tensors with different shapes, (3) passing Python objects instead of tensors. For (1), please define your @tf.function outside of the loop. For (2), @tf.function has reduce_retracing=True option that can avoid unnecessary retracing. For (3), please refer to https://www.tensorflow.org/guide/function#controlling_retracing and https://www.tensorflow.org/api_docs/python/tf/function for  more details.\n"
     ]
    },
    {
     "name": "stderr",
     "output_type": "stream",
     "text": [
      "WARNING:tensorflow:5 out of the last 13 calls to <function Model.make_predict_function.<locals>.predict_function at 0x00000243ABFC2F80> triggered tf.function retracing. Tracing is expensive and the excessive number of tracings could be due to (1) creating @tf.function repeatedly in a loop, (2) passing tensors with different shapes, (3) passing Python objects instead of tensors. For (1), please define your @tf.function outside of the loop. For (2), @tf.function has reduce_retracing=True option that can avoid unnecessary retracing. For (3), please refer to https://www.tensorflow.org/guide/function#controlling_retracing and https://www.tensorflow.org/api_docs/python/tf/function for  more details.\n"
     ]
    },
    {
     "name": "stdout",
     "output_type": "stream",
     "text": [
      "2/2 [==============================] - 0s 3ms/step\n"
     ]
    }
   ],
   "source": [
    "# Предсказание\n",
    "y_pred = model.predict(X_test)\n",
    "\n",
    "# Обратное преобразование данных\n",
    "y_test_inv = scaler.inverse_transform(\n",
    "    np.concatenate([y_test.reshape(-1,1), \n",
    "                    np.zeros((len(y_test), len(features)-1))], axis=1)\n",
    ")[:, 0]\n",
    "y_pred_inv = scaler.inverse_transform(\n",
    "    np.concatenate([y_pred, \n",
    "                    np.zeros((len(y_pred), len(features)-1))], axis=1)\n",
    ")[:, 0]"
   ]
  },
  {
   "cell_type": "code",
   "execution_count": 81,
   "id": "26e42e1b",
   "metadata": {},
   "outputs": [],
   "source": [
    "# Сохранение модели с горизонтом предсказания horizon\n",
    "#model.save(f\"LSTM_with_horizon_{horizon}.h5\")\n",
    "\n",
    "# Загрузка модели с горизонтом предсказания horizon\n",
    "#model = load_model(f\"LSTM_with_horizon_{horizon}.h5\")"
   ]
  }
 ],
 "metadata": {
  "kernelspec": {
   "display_name": "Python (TensorFlow)",
   "language": "python",
   "name": "tf-env"
  },
  "language_info": {
   "codemirror_mode": {
    "name": "ipython",
    "version": 3
   },
   "file_extension": ".py",
   "mimetype": "text/x-python",
   "name": "python",
   "nbconvert_exporter": "python",
   "pygments_lexer": "ipython3",
   "version": "3.10.9"
  }
 },
 "nbformat": 4,
 "nbformat_minor": 5
}
